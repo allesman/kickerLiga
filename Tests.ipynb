{
 "cells": [
  {
   "cell_type": "code",
   "execution_count": 1,
   "id": "aef874c3-13be-49b3-9b05-b2251acfdc5a",
   "metadata": {},
   "outputs": [
    {
     "name": "stdout",
     "output_type": "stream",
     "text": [
      "created elo entry\n",
      "created elo entry\n",
      "created elo entry\n",
      "created elo entry\n"
     ]
    }
   ],
   "source": [
    "import django\n",
    "import os\n",
    "os.environ.setdefault('DJANGO_SETTINGS_MODULE','KickerLiga.settings')\n",
    "os.environ[\"DJANGO_ALLOW_ASYNC_UNSAFE\"]=\"true\"\n",
    "django.setup()\n",
    "from League.lib.KickerLeague import KickerLeague\n",
    "from League.models import Player\n",
    "liga = KickerLeague()\n",
    "liga.create_example_players()"
   ]
  },
  {
   "cell_type": "code",
   "execution_count": 2,
   "id": "3a8474fe-5aba-4414-8b09-50db093b081d",
   "metadata": {},
   "outputs": [
    {
     "name": "stdout",
     "output_type": "stream",
     "text": [
      "Created match with Merlin4/Merlin1 vs Merlin2/Merlin3\n",
      "Created match with Merlin1/Merlin4 vs Merlin3/Merlin2\n",
      "Created match with Merlin3/Merlin4 vs Merlin1/Merlin2\n",
      "Created match with Merlin3/Merlin1 vs Merlin4/Merlin2\n",
      "Created match with Merlin3/Merlin2 vs Merlin4/Merlin1\n",
      "Created match with Merlin2/Merlin1 vs Merlin4/Merlin3\n",
      "Created match with Merlin3/Merlin1 vs Merlin4/Merlin2\n",
      "Created match with Merlin3/Merlin2 vs Merlin4/Merlin1\n",
      "Created match with Merlin1/Merlin2 vs Merlin4/Merlin3\n",
      "Created match with Merlin3/Merlin2 vs Merlin1/Merlin4\n",
      "Created match with Merlin3/Merlin2 vs Merlin4/Merlin1\n",
      "Created match with Merlin1/Merlin2 vs Merlin4/Merlin3\n",
      "Created match with Merlin4/Merlin3 vs Merlin2/Merlin1\n",
      "Created match with Merlin4/Merlin1 vs Merlin3/Merlin2\n",
      "Created match with Merlin3/Merlin2 vs Merlin1/Merlin4\n",
      "Created match with Merlin3/Merlin4 vs Merlin2/Merlin1\n",
      "Created match with Merlin4/Merlin1 vs Merlin2/Merlin3\n",
      "Created match with Merlin3/Merlin1 vs Merlin4/Merlin2\n",
      "Created match with Merlin4/Merlin2 vs Merlin3/Merlin1\n",
      "Created match with Merlin3/Merlin2 vs Merlin4/Merlin1\n",
      "Created match with Merlin1/Merlin2 vs Merlin3/Merlin4\n",
      "Created match with Merlin1/Merlin4 vs Merlin3/Merlin2\n",
      "Created match with Merlin3/Merlin4 vs Merlin2/Merlin1\n",
      "Created match with Merlin1/Merlin2 vs Merlin4/Merlin3\n",
      "Created match with Merlin3/Merlin4 vs Merlin1/Merlin2\n",
      "Created match with Merlin1/Merlin4 vs Merlin2/Merlin3\n",
      "Created match with Merlin1/Merlin2 vs Merlin3/Merlin4\n",
      "Created match with Merlin2/Merlin3 vs Merlin4/Merlin1\n",
      "Created match with Merlin4/Merlin2 vs Merlin1/Merlin3\n",
      "Created match with Merlin1/Merlin3 vs Merlin4/Merlin2\n",
      "Created match with Merlin2/Merlin1 vs Merlin3/Merlin4\n",
      "Created match with Merlin1/Merlin3 vs Merlin2/Merlin4\n",
      "Created match with Merlin4/Merlin3 vs Merlin2/Merlin1\n",
      "Created match with Merlin1/Merlin2 vs Merlin3/Merlin4\n",
      "Created match with Merlin1/Merlin2 vs Merlin4/Merlin3\n",
      "Created match with Merlin3/Merlin2 vs Merlin4/Merlin1\n",
      "Created match with Merlin3/Merlin1 vs Merlin4/Merlin2\n",
      "Created match with Merlin1/Merlin2 vs Merlin4/Merlin3\n",
      "Created match with Merlin3/Merlin4 vs Merlin2/Merlin1\n",
      "Created match with Merlin3/Merlin1 vs Merlin4/Merlin2\n",
      "Created match with Merlin3/Merlin2 vs Merlin1/Merlin4\n",
      "Created match with Merlin4/Merlin1 vs Merlin3/Merlin2\n",
      "Created match with Merlin1/Merlin3 vs Merlin2/Merlin4\n",
      "Created match with Merlin4/Merlin2 vs Merlin3/Merlin1\n",
      "Created match with Merlin2/Merlin4 vs Merlin1/Merlin3\n",
      "Created match with Merlin4/Merlin3 vs Merlin1/Merlin2\n",
      "Created match with Merlin4/Merlin1 vs Merlin2/Merlin3\n",
      "Created match with Merlin3/Merlin1 vs Merlin4/Merlin2\n",
      "Created match with Merlin3/Merlin1 vs Merlin4/Merlin2\n",
      "Created match with Merlin1/Merlin3 vs Merlin2/Merlin4\n",
      "Created match with Merlin2/Merlin3 vs Merlin1/Merlin4\n",
      "Created match with Merlin3/Merlin1 vs Merlin4/Merlin2\n",
      "Created match with Merlin1/Merlin3 vs Merlin4/Merlin2\n",
      "Created match with Merlin2/Merlin4 vs Merlin3/Merlin1\n",
      "Created match with Merlin3/Merlin4 vs Merlin2/Merlin1\n",
      "Created match with Merlin2/Merlin1 vs Merlin3/Merlin4\n",
      "Created match with Merlin2/Merlin1 vs Merlin3/Merlin4\n",
      "Created match with Merlin1/Merlin2 vs Merlin4/Merlin3\n",
      "Created match with Merlin1/Merlin2 vs Merlin4/Merlin3\n",
      "Created match with Merlin4/Merlin1 vs Merlin2/Merlin3\n",
      "Created match with Merlin1/Merlin4 vs Merlin2/Merlin3\n",
      "Created match with Merlin4/Merlin3 vs Merlin1/Merlin2\n",
      "Created match with Merlin1/Merlin3 vs Merlin4/Merlin2\n",
      "Created match with Merlin4/Merlin2 vs Merlin3/Merlin1\n",
      "Created match with Merlin1/Merlin2 vs Merlin3/Merlin4\n",
      "Created match with Merlin2/Merlin3 vs Merlin4/Merlin1\n",
      "Created match with Merlin4/Merlin1 vs Merlin2/Merlin3\n",
      "Created match with Merlin4/Merlin2 vs Merlin1/Merlin3\n",
      "Created match with Merlin3/Merlin2 vs Merlin4/Merlin1\n",
      "Created match with Merlin1/Merlin4 vs Merlin2/Merlin3\n",
      "Created match with Merlin1/Merlin2 vs Merlin4/Merlin3\n",
      "Created match with Merlin4/Merlin2 vs Merlin1/Merlin3\n",
      "Created match with Merlin2/Merlin3 vs Merlin1/Merlin4\n",
      "Created match with Merlin2/Merlin3 vs Merlin1/Merlin4\n",
      "Created match with Merlin2/Merlin4 vs Merlin3/Merlin1\n",
      "Created match with Merlin3/Merlin4 vs Merlin2/Merlin1\n",
      "Created match with Merlin2/Merlin4 vs Merlin3/Merlin1\n",
      "Created match with Merlin2/Merlin3 vs Merlin1/Merlin4\n",
      "Created match with Merlin1/Merlin4 vs Merlin3/Merlin2\n",
      "Created match with Merlin3/Merlin4 vs Merlin1/Merlin2\n",
      "Created match with Merlin2/Merlin4 vs Merlin3/Merlin1\n",
      "Created match with Merlin3/Merlin2 vs Merlin1/Merlin4\n",
      "Created match with Merlin2/Merlin4 vs Merlin3/Merlin1\n",
      "Created match with Merlin4/Merlin2 vs Merlin3/Merlin1\n",
      "Created match with Merlin3/Merlin2 vs Merlin4/Merlin1\n",
      "Created match with Merlin1/Merlin4 vs Merlin3/Merlin2\n",
      "Created match with Merlin2/Merlin4 vs Merlin1/Merlin3\n",
      "Created match with Merlin1/Merlin4 vs Merlin3/Merlin2\n",
      "Created match with Merlin2/Merlin3 vs Merlin4/Merlin1\n",
      "Created match with Merlin2/Merlin4 vs Merlin3/Merlin1\n",
      "Created match with Merlin4/Merlin1 vs Merlin3/Merlin2\n",
      "Created match with Merlin3/Merlin1 vs Merlin4/Merlin2\n",
      "Created match with Merlin2/Merlin3 vs Merlin1/Merlin4\n",
      "Created match with Merlin1/Merlin2 vs Merlin3/Merlin4\n",
      "Created match with Merlin4/Merlin1 vs Merlin2/Merlin3\n",
      "Created match with Merlin3/Merlin1 vs Merlin2/Merlin4\n",
      "Created match with Merlin2/Merlin3 vs Merlin4/Merlin1\n",
      "Created match with Merlin1/Merlin3 vs Merlin2/Merlin4\n",
      "Created match with Merlin1/Merlin2 vs Merlin4/Merlin3\n",
      "Created match with Merlin1/Merlin3 vs Merlin4/Merlin2\n"
     ]
    }
   ],
   "source": [
    "for i in range(100):\n",
    "    liga.new_match_day()"
   ]
  },
  {
   "cell_type": "raw",
   "id": "64dd5b57-56ed-4f5d-940b-98e4c737aa1d",
   "metadata": {},
   "source": [
    "liga.get_scoreboard()"
   ]
  },
  {
   "cell_type": "code",
   "execution_count": null,
   "id": "1e7a9fcc-e4f9-4cb9-a9ae-2b3a096fa638",
   "metadata": {},
   "outputs": [],
   "source": [
    "liga.new_match()"
   ]
  },
  {
   "cell_type": "code",
   "execution_count": null,
   "id": "c5b893b1-8c72-424e-b60d-cf4dfc13d6da",
   "metadata": {},
   "outputs": [],
   "source": []
  }
 ],
 "metadata": {
  "kernelspec": {
   "display_name": "Python 3 (ipykernel)",
   "language": "python",
   "name": "python3"
  },
  "language_info": {
   "codemirror_mode": {
    "name": "ipython",
    "version": 3
   },
   "file_extension": ".py",
   "mimetype": "text/x-python",
   "name": "python",
   "nbconvert_exporter": "python",
   "pygments_lexer": "ipython3",
   "version": "3.11.4"
  }
 },
 "nbformat": 4,
 "nbformat_minor": 5
}
