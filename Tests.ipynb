{
 "cells": [
  {
   "cell_type": "code",
   "execution_count": 1,
   "id": "59a65607-3b63-4fe4-9c92-8696b521196b",
   "metadata": {},
   "outputs": [
    {
     "data": {
      "text/plain": [
       "[<Player: Player object (51)>,\n",
       " <Player: Player object (52)>,\n",
       " <Player: Player object (53)>,\n",
       " <Player: Player object (54)>]"
      ]
     },
     "execution_count": 1,
     "metadata": {},
     "output_type": "execute_result"
    }
   ],
   "source": [
    "import django\n",
    "import os\n",
    "os.environ.setdefault('DJANGO_SETTINGS_MODULE','KickerLiga.settings')\n",
    "os.environ[\"DJANGO_ALLOW_ASYNC_UNSAFE\"]=\"true\"\n",
    "django.setup()\n",
    "from League.lib.KickerLeague import KickerLeague\n",
    "from League.models import Player\n",
    "liga = KickerLeague()\n",
    "liga.create_example_players()"
   ]
  },
  {
   "cell_type": "code",
   "execution_count": 2,
   "id": "e7594148-4c0f-4280-b040-08c3b60aacba",
   "metadata": {},
   "outputs": [
    {
     "name": "stdout",
     "output_type": "stream",
     "text": [
      "The following 0 players are unpaired:[]\n",
      "Created match with Merlin/Gandalf vs Harry/Hermine\n"
     ]
    }
   ],
   "source": [
    "liga.new_match_day()"
   ]
  },
  {
   "cell_type": "code",
   "execution_count": null,
   "id": "aea1e4d1-85ed-462b-8694-1f66cc901189",
   "metadata": {},
   "outputs": [],
   "source": [
    "liga.delete_all_players()"
   ]
  },
  {
   "cell_type": "code",
   "execution_count": null,
   "id": "ac2e9784-e297-4ab8-9fed-8b1a229dda57",
   "metadata": {},
   "outputs": [],
   "source": []
  }
 ],
 "metadata": {
  "kernelspec": {
   "display_name": "Python 3 (ipykernel)",
   "language": "python",
   "name": "python3"
  },
  "language_info": {
   "codemirror_mode": {
    "name": "ipython",
    "version": 3
   },
   "file_extension": ".py",
   "mimetype": "text/x-python",
   "name": "python",
   "nbconvert_exporter": "python",
   "pygments_lexer": "ipython3",
   "version": "3.11.4"
  }
 },
 "nbformat": 4,
 "nbformat_minor": 5
}
