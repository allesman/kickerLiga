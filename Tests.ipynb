{
 "cells": [
  {
   "cell_type": "code",
   "execution_count": 1,
   "id": "aef874c3-13be-49b3-9b05-b2251acfdc5a",
   "metadata": {},
   "outputs": [
    {
     "name": "stdout",
     "output_type": "stream",
     "text": [
      "created elo entry\n",
      "created elo entry\n",
      "created elo entry\n",
      "created elo entry\n",
      "Creating match day 1\n",
      "Created match with Merlin4/Merlin3 vs Merlin2/Merlin1\n"
     ]
    }
   ],
   "source": [
    "import django\n",
    "import os\n",
    "os.environ.setdefault('DJANGO_SETTINGS_MODULE','KickerLiga.settings')\n",
    "os.environ[\"DJANGO_ALLOW_ASYNC_UNSAFE\"]=\"true\"\n",
    "django.setup()\n",
    "from League.lib.KickerLeague import KickerLeague\n",
    "from League.models import Player\n",
    "liga = KickerLeague()"
   ]
  },
  {
   "cell_type": "code",
   "execution_count": null,
   "id": "c5b893b1-8c72-424e-b60d-cf4dfc13d6da",
   "metadata": {},
   "outputs": [],
   "source": []
  }
 ],
 "metadata": {
  "kernelspec": {
   "display_name": "Python 3 (ipykernel)",
   "language": "python",
   "name": "python3"
  },
  "language_info": {
   "codemirror_mode": {
    "name": "ipython",
    "version": 3
   },
   "file_extension": ".py",
   "mimetype": "text/x-python",
   "name": "python",
   "nbconvert_exporter": "python",
   "pygments_lexer": "ipython3",
   "version": "3.11.4"
  }
 },
 "nbformat": 4,
 "nbformat_minor": 5
}
